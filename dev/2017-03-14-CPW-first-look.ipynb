{
 "cells": [
  {
   "cell_type": "code",
   "execution_count": 38,
   "metadata": {
    "collapsed": true
   },
   "outputs": [],
   "source": [
    "%matplotlib inline\n",
    "import matplotlib.pyplot as plt\n",
    "import numpy as np\n",
    "import pandas as pd\n",
    "import seaborn as sns\n",
    "sns.set();"
   ]
  },
  {
   "cell_type": "code",
   "execution_count": 2,
   "metadata": {
    "collapsed": false
   },
   "outputs": [
    {
     "name": "stdout",
     "output_type": "stream",
     "text": [
      "0.19.2\n"
     ]
    }
   ],
   "source": [
    "print pd.__version__"
   ]
  },
  {
   "cell_type": "code",
   "execution_count": 3,
   "metadata": {
    "collapsed": false
   },
   "outputs": [
    {
     "name": "stdout",
     "output_type": "stream",
     "text": [
      "coalpublic2004.xls  coalpublic2007.xls  coalpublic2010.xls  coalpublic2013.xls\r\n",
      "coalpublic2005.xls  coalpublic2008.xls  coalpublic2011.xls\r\n",
      "coalpublic2006.xls  coalpublic2009.xls  coalpublic2012.xls\r\n"
     ]
    }
   ],
   "source": [
    "ls ../data/"
   ]
  },
  {
   "cell_type": "code",
   "execution_count": 4,
   "metadata": {
    "collapsed": false
   },
   "outputs": [
    {
     "data": {
      "text/html": [
       "<div>\n",
       "<table border=\"1\" class=\"dataframe\">\n",
       "  <thead>\n",
       "    <tr style=\"text-align: right;\">\n",
       "      <th></th>\n",
       "      <th>Year</th>\n",
       "      <th>Mine Name</th>\n",
       "      <th>Mine State</th>\n",
       "      <th>Mine County</th>\n",
       "      <th>Mine Status</th>\n",
       "      <th>Mine Type</th>\n",
       "      <th>Company Type</th>\n",
       "      <th>Operation Type</th>\n",
       "      <th>Operating Company</th>\n",
       "      <th>Operating Company Address</th>\n",
       "      <th>Union Code</th>\n",
       "      <th>Coal Supply Region</th>\n",
       "      <th>Production (short tons)</th>\n",
       "      <th>Average Employees</th>\n",
       "      <th>Labor Hours</th>\n",
       "    </tr>\n",
       "    <tr>\n",
       "      <th>MSHA ID</th>\n",
       "      <th></th>\n",
       "      <th></th>\n",
       "      <th></th>\n",
       "      <th></th>\n",
       "      <th></th>\n",
       "      <th></th>\n",
       "      <th></th>\n",
       "      <th></th>\n",
       "      <th></th>\n",
       "      <th></th>\n",
       "      <th></th>\n",
       "      <th></th>\n",
       "      <th></th>\n",
       "      <th></th>\n",
       "      <th></th>\n",
       "    </tr>\n",
       "  </thead>\n",
       "  <tbody>\n",
       "    <tr>\n",
       "      <th>103381</th>\n",
       "      <td>2013</td>\n",
       "      <td>Tacoa Highwall Miner</td>\n",
       "      <td>Alabama</td>\n",
       "      <td>Bibb</td>\n",
       "      <td>Active, men working, not producing</td>\n",
       "      <td>Surface</td>\n",
       "      <td>Indepedent Producer Operator</td>\n",
       "      <td>Mine only</td>\n",
       "      <td>Jesse Creek Mining, Llc</td>\n",
       "      <td>1615 Kent Dairy Rd, Alabaster, AL 35007</td>\n",
       "      <td></td>\n",
       "      <td>Appalachia Southern</td>\n",
       "      <td>56004</td>\n",
       "      <td>10</td>\n",
       "      <td>22392</td>\n",
       "    </tr>\n",
       "    <tr>\n",
       "      <th>103404</th>\n",
       "      <td>2013</td>\n",
       "      <td>Reid School Mine</td>\n",
       "      <td>Alabama</td>\n",
       "      <td>Blount</td>\n",
       "      <td>Permanently abandoned</td>\n",
       "      <td>Surface</td>\n",
       "      <td>Indepedent Producer Operator</td>\n",
       "      <td>Mine only</td>\n",
       "      <td>Taft Coal Sales &amp; Associates,</td>\n",
       "      <td>3000 Riverchase Galleria Ste 1, Birmingham, AL...</td>\n",
       "      <td>UNIT</td>\n",
       "      <td>Appalachia Southern</td>\n",
       "      <td>28807</td>\n",
       "      <td>18</td>\n",
       "      <td>28447</td>\n",
       "    </tr>\n",
       "    <tr>\n",
       "      <th>100759</th>\n",
       "      <td>2013</td>\n",
       "      <td>North River #1 Underground Min</td>\n",
       "      <td>Alabama</td>\n",
       "      <td>Fayette</td>\n",
       "      <td>Active, men working, not producing</td>\n",
       "      <td>Underground</td>\n",
       "      <td>Indepedent Producer Operator</td>\n",
       "      <td>Mine and Preparation Plant</td>\n",
       "      <td>Jim Walter Resources Inc</td>\n",
       "      <td>3114 County Rd 63 S, Berry, AL 35546</td>\n",
       "      <td>UNIT</td>\n",
       "      <td>Appalachia Southern</td>\n",
       "      <td>1440115</td>\n",
       "      <td>183</td>\n",
       "      <td>474784</td>\n",
       "    </tr>\n",
       "    <tr>\n",
       "      <th>103246</th>\n",
       "      <td>2013</td>\n",
       "      <td>Bear Creek</td>\n",
       "      <td>Alabama</td>\n",
       "      <td>Franklin</td>\n",
       "      <td>Active</td>\n",
       "      <td>Surface</td>\n",
       "      <td>Indepedent Producer Operator</td>\n",
       "      <td>Mine only</td>\n",
       "      <td>Birmingham Coal &amp; Coke Co., In</td>\n",
       "      <td>912 Edenton Street, Birmingham, AL 35242</td>\n",
       "      <td></td>\n",
       "      <td>Appalachia Southern</td>\n",
       "      <td>87587</td>\n",
       "      <td>13</td>\n",
       "      <td>29193</td>\n",
       "    </tr>\n",
       "    <tr>\n",
       "      <th>103451</th>\n",
       "      <td>2013</td>\n",
       "      <td>Knight Mine</td>\n",
       "      <td>Alabama</td>\n",
       "      <td>Franklin</td>\n",
       "      <td>Active</td>\n",
       "      <td>Surface</td>\n",
       "      <td>Indepedent Producer Operator</td>\n",
       "      <td>Mine only</td>\n",
       "      <td>Birmingham Coal &amp; Coke Co., In</td>\n",
       "      <td>P.O. Box 354, Lynn, AL 35242</td>\n",
       "      <td></td>\n",
       "      <td>Appalachia Southern</td>\n",
       "      <td>147499</td>\n",
       "      <td>27</td>\n",
       "      <td>46393</td>\n",
       "    </tr>\n",
       "  </tbody>\n",
       "</table>\n",
       "</div>"
      ],
      "text/plain": [
       "         Year                       Mine Name Mine State Mine County  \\\n",
       "MSHA ID                                                                \n",
       "103381   2013            Tacoa Highwall Miner    Alabama        Bibb   \n",
       "103404   2013                Reid School Mine    Alabama      Blount   \n",
       "100759   2013  North River #1 Underground Min    Alabama     Fayette   \n",
       "103246   2013                      Bear Creek    Alabama    Franklin   \n",
       "103451   2013                     Knight Mine    Alabama    Franklin   \n",
       "\n",
       "                                Mine Status    Mine Type  \\\n",
       "MSHA ID                                                    \n",
       "103381   Active, men working, not producing      Surface   \n",
       "103404                Permanently abandoned      Surface   \n",
       "100759   Active, men working, not producing  Underground   \n",
       "103246                               Active      Surface   \n",
       "103451                               Active      Surface   \n",
       "\n",
       "                         Company Type              Operation Type  \\\n",
       "MSHA ID                                                             \n",
       "103381   Indepedent Producer Operator                   Mine only   \n",
       "103404   Indepedent Producer Operator                   Mine only   \n",
       "100759   Indepedent Producer Operator  Mine and Preparation Plant   \n",
       "103246   Indepedent Producer Operator                   Mine only   \n",
       "103451   Indepedent Producer Operator                   Mine only   \n",
       "\n",
       "                      Operating Company  \\\n",
       "MSHA ID                                   \n",
       "103381          Jesse Creek Mining, Llc   \n",
       "103404    Taft Coal Sales & Associates,   \n",
       "100759         Jim Walter Resources Inc   \n",
       "103246   Birmingham Coal & Coke Co., In   \n",
       "103451   Birmingham Coal & Coke Co., In   \n",
       "\n",
       "                                 Operating Company Address Union Code  \\\n",
       "MSHA ID                                                                 \n",
       "103381             1615 Kent Dairy Rd, Alabaster, AL 35007              \n",
       "103404   3000 Riverchase Galleria Ste 1, Birmingham, AL...       UNIT   \n",
       "100759                3114 County Rd 63 S, Berry, AL 35546       UNIT   \n",
       "103246            912 Edenton Street, Birmingham, AL 35242              \n",
       "103451                        P.O. Box 354, Lynn, AL 35242              \n",
       "\n",
       "          Coal Supply Region  Production (short tons)  Average Employees  \\\n",
       "MSHA ID                                                                    \n",
       "103381   Appalachia Southern                    56004                 10   \n",
       "103404   Appalachia Southern                    28807                 18   \n",
       "100759   Appalachia Southern                  1440115                183   \n",
       "103246   Appalachia Southern                    87587                 13   \n",
       "103451   Appalachia Southern                   147499                 27   \n",
       "\n",
       "         Labor Hours  \n",
       "MSHA ID               \n",
       "103381         22392  \n",
       "103404         28447  \n",
       "100759        474784  \n",
       "103246         29193  \n",
       "103451         46393  "
      ]
     },
     "execution_count": 4,
     "metadata": {},
     "output_type": "execute_result"
    }
   ],
   "source": [
    "df1 = pd.read_excel(\"../data/coalpublic2013.xls\", header=2, index_col='MSHA ID')\n",
    "df1.head()"
   ]
  },
  {
   "cell_type": "code",
   "execution_count": 6,
   "metadata": {
    "collapsed": false
   },
   "outputs": [
    {
     "data": {
      "text/plain": [
       "array([u'Indepedent Producer Operator', u'Operating Subsidiary',\n",
       "       u'Contractor'], dtype=object)"
      ]
     },
     "execution_count": 6,
     "metadata": {},
     "output_type": "execute_result"
    }
   ],
   "source": [
    "df1['Company Type'].unique()"
   ]
  },
  {
   "cell_type": "code",
   "execution_count": 8,
   "metadata": {
    "collapsed": false
   },
   "outputs": [],
   "source": [
    "df1['Company Type'].replace(to_replace='Indepedent Producer Operator',\n",
    "                           value='Independent Producer Operator',\n",
    "                           inplace=True)"
   ]
  },
  {
   "cell_type": "code",
   "execution_count": 12,
   "metadata": {
    "collapsed": false
   },
   "outputs": [
    {
     "data": {
      "text/plain": [
       "array(['Independent Producer Operator', u'Operating Subsidiary',\n",
       "       u'Contractor'], dtype=object)"
      ]
     },
     "execution_count": 12,
     "metadata": {},
     "output_type": "execute_result"
    }
   ],
   "source": [
    "df1['Company Type'].unique()"
   ]
  },
  {
   "cell_type": "code",
   "execution_count": 15,
   "metadata": {
    "collapsed": true
   },
   "outputs": [],
   "source": [
    "df1.rename(columns=lambda x: x.replace(\" \", \"_\").lower(), inplace=True)"
   ]
  },
  {
   "cell_type": "code",
   "execution_count": 17,
   "metadata": {
    "collapsed": false
   },
   "outputs": [
    {
     "data": {
      "text/html": [
       "<div>\n",
       "<table border=\"1\" class=\"dataframe\">\n",
       "  <thead>\n",
       "    <tr style=\"text-align: right;\">\n",
       "      <th></th>\n",
       "      <th>year</th>\n",
       "      <th>mine_name</th>\n",
       "      <th>mine_state</th>\n",
       "      <th>mine_county</th>\n",
       "      <th>mine_status</th>\n",
       "      <th>mine_type</th>\n",
       "      <th>company_type</th>\n",
       "      <th>operation_type</th>\n",
       "      <th>operating_company</th>\n",
       "      <th>operating_company_address</th>\n",
       "      <th>union_code</th>\n",
       "      <th>coal_supply_region</th>\n",
       "      <th>production_(short_tons)</th>\n",
       "      <th>average_employees</th>\n",
       "      <th>labor_hours</th>\n",
       "    </tr>\n",
       "    <tr>\n",
       "      <th>MSHA ID</th>\n",
       "      <th></th>\n",
       "      <th></th>\n",
       "      <th></th>\n",
       "      <th></th>\n",
       "      <th></th>\n",
       "      <th></th>\n",
       "      <th></th>\n",
       "      <th></th>\n",
       "      <th></th>\n",
       "      <th></th>\n",
       "      <th></th>\n",
       "      <th></th>\n",
       "      <th></th>\n",
       "      <th></th>\n",
       "      <th></th>\n",
       "    </tr>\n",
       "  </thead>\n",
       "  <tbody>\n",
       "    <tr>\n",
       "      <th>103381</th>\n",
       "      <td>2013</td>\n",
       "      <td>Tacoa Highwall Miner</td>\n",
       "      <td>Alabama</td>\n",
       "      <td>Bibb</td>\n",
       "      <td>Active, men working, not producing</td>\n",
       "      <td>Surface</td>\n",
       "      <td>Independent Producer Operator</td>\n",
       "      <td>Mine only</td>\n",
       "      <td>Jesse Creek Mining, Llc</td>\n",
       "      <td>1615 Kent Dairy Rd, Alabaster, AL 35007</td>\n",
       "      <td></td>\n",
       "      <td>Appalachia Southern</td>\n",
       "      <td>56004</td>\n",
       "      <td>10</td>\n",
       "      <td>22392</td>\n",
       "    </tr>\n",
       "    <tr>\n",
       "      <th>103404</th>\n",
       "      <td>2013</td>\n",
       "      <td>Reid School Mine</td>\n",
       "      <td>Alabama</td>\n",
       "      <td>Blount</td>\n",
       "      <td>Permanently abandoned</td>\n",
       "      <td>Surface</td>\n",
       "      <td>Independent Producer Operator</td>\n",
       "      <td>Mine only</td>\n",
       "      <td>Taft Coal Sales &amp; Associates,</td>\n",
       "      <td>3000 Riverchase Galleria Ste 1, Birmingham, AL...</td>\n",
       "      <td>UNIT</td>\n",
       "      <td>Appalachia Southern</td>\n",
       "      <td>28807</td>\n",
       "      <td>18</td>\n",
       "      <td>28447</td>\n",
       "    </tr>\n",
       "    <tr>\n",
       "      <th>100759</th>\n",
       "      <td>2013</td>\n",
       "      <td>North River #1 Underground Min</td>\n",
       "      <td>Alabama</td>\n",
       "      <td>Fayette</td>\n",
       "      <td>Active, men working, not producing</td>\n",
       "      <td>Underground</td>\n",
       "      <td>Independent Producer Operator</td>\n",
       "      <td>Mine and Preparation Plant</td>\n",
       "      <td>Jim Walter Resources Inc</td>\n",
       "      <td>3114 County Rd 63 S, Berry, AL 35546</td>\n",
       "      <td>UNIT</td>\n",
       "      <td>Appalachia Southern</td>\n",
       "      <td>1440115</td>\n",
       "      <td>183</td>\n",
       "      <td>474784</td>\n",
       "    </tr>\n",
       "    <tr>\n",
       "      <th>103246</th>\n",
       "      <td>2013</td>\n",
       "      <td>Bear Creek</td>\n",
       "      <td>Alabama</td>\n",
       "      <td>Franklin</td>\n",
       "      <td>Active</td>\n",
       "      <td>Surface</td>\n",
       "      <td>Independent Producer Operator</td>\n",
       "      <td>Mine only</td>\n",
       "      <td>Birmingham Coal &amp; Coke Co., In</td>\n",
       "      <td>912 Edenton Street, Birmingham, AL 35242</td>\n",
       "      <td></td>\n",
       "      <td>Appalachia Southern</td>\n",
       "      <td>87587</td>\n",
       "      <td>13</td>\n",
       "      <td>29193</td>\n",
       "    </tr>\n",
       "    <tr>\n",
       "      <th>103451</th>\n",
       "      <td>2013</td>\n",
       "      <td>Knight Mine</td>\n",
       "      <td>Alabama</td>\n",
       "      <td>Franklin</td>\n",
       "      <td>Active</td>\n",
       "      <td>Surface</td>\n",
       "      <td>Independent Producer Operator</td>\n",
       "      <td>Mine only</td>\n",
       "      <td>Birmingham Coal &amp; Coke Co., In</td>\n",
       "      <td>P.O. Box 354, Lynn, AL 35242</td>\n",
       "      <td></td>\n",
       "      <td>Appalachia Southern</td>\n",
       "      <td>147499</td>\n",
       "      <td>27</td>\n",
       "      <td>46393</td>\n",
       "    </tr>\n",
       "  </tbody>\n",
       "</table>\n",
       "</div>"
      ],
      "text/plain": [
       "         year                       mine_name mine_state mine_county  \\\n",
       "MSHA ID                                                                \n",
       "103381   2013            Tacoa Highwall Miner    Alabama        Bibb   \n",
       "103404   2013                Reid School Mine    Alabama      Blount   \n",
       "100759   2013  North River #1 Underground Min    Alabama     Fayette   \n",
       "103246   2013                      Bear Creek    Alabama    Franklin   \n",
       "103451   2013                     Knight Mine    Alabama    Franklin   \n",
       "\n",
       "                                mine_status    mine_type  \\\n",
       "MSHA ID                                                    \n",
       "103381   Active, men working, not producing      Surface   \n",
       "103404                Permanently abandoned      Surface   \n",
       "100759   Active, men working, not producing  Underground   \n",
       "103246                               Active      Surface   \n",
       "103451                               Active      Surface   \n",
       "\n",
       "                          company_type              operation_type  \\\n",
       "MSHA ID                                                              \n",
       "103381   Independent Producer Operator                   Mine only   \n",
       "103404   Independent Producer Operator                   Mine only   \n",
       "100759   Independent Producer Operator  Mine and Preparation Plant   \n",
       "103246   Independent Producer Operator                   Mine only   \n",
       "103451   Independent Producer Operator                   Mine only   \n",
       "\n",
       "                      operating_company  \\\n",
       "MSHA ID                                   \n",
       "103381          Jesse Creek Mining, Llc   \n",
       "103404    Taft Coal Sales & Associates,   \n",
       "100759         Jim Walter Resources Inc   \n",
       "103246   Birmingham Coal & Coke Co., In   \n",
       "103451   Birmingham Coal & Coke Co., In   \n",
       "\n",
       "                                 operating_company_address union_code  \\\n",
       "MSHA ID                                                                 \n",
       "103381             1615 Kent Dairy Rd, Alabaster, AL 35007              \n",
       "103404   3000 Riverchase Galleria Ste 1, Birmingham, AL...       UNIT   \n",
       "100759                3114 County Rd 63 S, Berry, AL 35546       UNIT   \n",
       "103246            912 Edenton Street, Birmingham, AL 35242              \n",
       "103451                        P.O. Box 354, Lynn, AL 35242              \n",
       "\n",
       "          coal_supply_region  production_(short_tons)  average_employees  \\\n",
       "MSHA ID                                                                    \n",
       "103381   Appalachia Southern                    56004                 10   \n",
       "103404   Appalachia Southern                    28807                 18   \n",
       "100759   Appalachia Southern                  1440115                183   \n",
       "103246   Appalachia Southern                    87587                 13   \n",
       "103451   Appalachia Southern                   147499                 27   \n",
       "\n",
       "         labor_hours  \n",
       "MSHA ID               \n",
       "103381         22392  \n",
       "103404         28447  \n",
       "100759        474784  \n",
       "103246         29193  \n",
       "103451         46393  "
      ]
     },
     "execution_count": 17,
     "metadata": {},
     "output_type": "execute_result"
    }
   ],
   "source": [
    "df1.head()"
   ]
  },
  {
   "cell_type": "code",
   "execution_count": 19,
   "metadata": {
    "collapsed": false
   },
   "outputs": [
    {
     "data": {
      "text/plain": [
       "<matplotlib.text.Text at 0x1154ecd50>"
      ]
     },
     "execution_count": 19,
     "metadata": {},
     "output_type": "execute_result"
    },
    {
     "data": {
      "image/png": "[encoded data removed]",
      "text/plain": [
       "<matplotlib.figure.Figure at 0x1154ac990>"
      ]
     },
     "metadata": {},
     "output_type": "display_data"
    }
   ],
   "source": [
    "plt.scatter(df1.average_employees, df1.labor_hours)\n",
    "plt.xlabel(\"Number of Employees\")\n",
    "plt.ylabel(\"Total Hours Worked\")"
   ]
  },
  {
   "cell_type": "code",
   "execution_count": 21,
   "metadata": {
    "collapsed": false
   },
   "outputs": [
    {
     "data": {
      "image/png": "[encoded data removed]",
      "text/plain": [
       "<matplotlib.figure.Figure at 0x115470210>"
      ]
     },
     "metadata": {},
     "output_type": "display_data"
    }
   ],
   "source": [
    "sns.regplot(df1.average_employees, df1.labor_hours)\n",
    "plt.savefig(\"../figures/2017-03-14\" + \"-employees_vs_hours.png\")"
   ]
  },
  {
   "cell_type": "code",
   "execution_count": 22,
   "metadata": {
    "collapsed": false
   },
   "outputs": [
    {
     "name": "stdout",
     "output_type": "stream",
     "text": [
      "year\n",
      "mine_name\n",
      "mine_state\n",
      "mine_county\n",
      "mine_status\n",
      "mine_type\n",
      "company_type\n",
      "operation_type\n",
      "operating_company\n",
      "operating_company_address\n",
      "union_code\n",
      "coal_supply_region\n",
      "production_(short_tons)\n",
      "average_employees\n",
      "labor_hours\n"
     ]
    }
   ],
   "source": [
    "for column in df1.columns:\n",
    "    print column"
   ]
  },
  {
   "cell_type": "code",
   "execution_count": 23,
   "metadata": {
    "collapsed": false
   },
   "outputs": [
    {
     "data": {
      "text/plain": [
       "<matplotlib.collections.PathCollection at 0x115422410>"
      ]
     },
     "execution_count": 23,
     "metadata": {},
     "output_type": "execute_result"
    },
    {
     "data": {
      "image/png": "[encoded data removed]",
      "text/plain": [
       "<matplotlib.figure.Figure at 0x1159b8110>"
      ]
     },
     "metadata": {},
     "output_type": "display_data"
    }
   ],
   "source": [
    "plt.scatter(df1.labor_hours, df1['production_(short_tons)'])"
   ]
  },
  {
   "cell_type": "code",
   "execution_count": 24,
   "metadata": {
    "collapsed": false
   },
   "outputs": [
    {
     "data": {
      "text/plain": [
       "<matplotlib.axes._subplots.AxesSubplot at 0x1159ae210>"
      ]
     },
     "execution_count": 24,
     "metadata": {},
     "output_type": "execute_result"
    },
    {
     "data": {
      "image/png": "[encoded data removed]",
      "text/plain": [
       "<matplotlib.figure.Figure at 0x115967f50>"
      ]
     },
     "metadata": {},
     "output_type": "display_data"
    }
   ],
   "source": [
    "df1['production_(short_tons)'].hist()"
   ]
  },
  {
   "cell_type": "code",
   "execution_count": 37,
   "metadata": {
    "collapsed": false
   },
   "outputs": [
    {
     "name": "stdout",
     "output_type": "stream",
     "text": [
      "All Data: 1450\n",
      "Only mines that produced coal: 1061\n"
     ]
    }
   ],
   "source": [
    "# Only mines that produced coal\n",
    "df2 = df1[df1['production_(short_tons)'] > 0]\n",
    "print 'All Data: ' + str(len(df1))\n",
    "print 'Only mines that produced coal: ' + str(len(df2))"
   ]
  },
  {
   "cell_type": "code",
   "execution_count": 39,
   "metadata": {
    "collapsed": true
   },
   "outputs": [],
   "source": [
    "df2.log_production = np.log(df2['production_(short_tons)'])"
   ]
  },
  {
   "cell_type": "code",
   "execution_count": 40,
   "metadata": {
    "collapsed": false
   },
   "outputs": [
    {
     "data": {
      "text/plain": [
       "<matplotlib.axes._subplots.AxesSubplot at 0x115b80990>"
      ]
     },
     "execution_count": 40,
     "metadata": {},
     "output_type": "execute_result"
    },
    {
     "data": {
      "image/png": "[encoded data removed]",
      "text/plain": [
       "<matplotlib.figure.Figure at 0x107b8c110>"
      ]
     },
     "metadata": {},
     "output_type": "display_data"
    }
   ],
   "source": [
    "df2.log_production.hist()"
   ]
  },
  {
   "cell_type": "code",
   "execution_count": 42,
   "metadata": {
    "collapsed": true
   },
   "outputs": [],
   "source": [
    "# CSV for only mines that produced coal\n",
    "df2.to_csv(\"../data/cleaned_coalpublic2013.csv\")"
   ]
  },
  {
   "cell_type": "code",
   "execution_count": null,
   "metadata": {
    "collapsed": true
   },
   "outputs": [],
   "source": []
  }
 ],
 "metadata": {
  "kernelspec": {
   "display_name": "Python 2",
   "language": "python",
   "name": "python2"
  },
  "language_info": {
   "codemirror_mode": {
    "name": "ipython",
    "version": 2
   },
   "file_extension": ".py",
   "mimetype": "text/x-python",
   "name": "python",
   "nbconvert_exporter": "python",
   "pygments_lexer": "ipython2",
   "version": "2.7.13"
  }
 },
 "nbformat": 4,
 "nbformat_minor": 2
}
